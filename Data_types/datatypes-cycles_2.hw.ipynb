{
 "cells": [
  {
   "cell_type": "markdown",
   "metadata": {},
   "source": [
    "Задание 1. Дан список с визитами по городам и странам. Напишите код, который возвращает отфильтрованный список geo_logs, содержащий только визиты из России."
   ]
  },
  {
   "cell_type": "code",
   "execution_count": 113,
   "metadata": {
    "scrolled": true
   },
   "outputs": [
    {
     "data": {
      "text/plain": [
       "[{'visit1': ['Москва', 'Россия']},\n",
       " {'visit3': ['Владимир', 'Россия']},\n",
       " {'visit7': ['Тула', 'Россия']},\n",
       " {'visit8': ['Тула', 'Россия']},\n",
       " {'visit9': ['Курск', 'Россия']},\n",
       " {'visit10': ['Архангельск', 'Россия']}]"
      ]
     },
     "execution_count": 113,
     "metadata": {},
     "output_type": "execute_result"
    }
   ],
   "source": [
    "import copy\n",
    "geo_logs = [\n",
    "    {'visit1': ['Москва', 'Россия']},\n",
    "    {'visit2': ['Дели', 'Индия']},\n",
    "    {'visit3': ['Владимир', 'Россия']},\n",
    "    {'visit4': ['Лиссабон', 'Португалия']},\n",
    "    {'visit5': ['Париж', 'Франция']},\n",
    "    {'visit6': ['Лиссабон', 'Португалия']},\n",
    "    {'visit7': ['Тула', 'Россия']},\n",
    "    {'visit8': ['Тула', 'Россия']},\n",
    "    {'visit9': ['Курск', 'Россия']},\n",
    "    {'visit10': ['Архангельск', 'Россия']}\n",
    "]\n",
    "geo_shmeo = copy.copy(geo_logs)\n",
    "for visit in geo_shmeo:\n",
    "    if list(visit.values())[0][1] != 'Россия':\n",
    "        #for trip in visit:\n",
    "        #if 'Россия' not in visit[trip]:\n",
    "            geo_logs.remove(visit)\n",
    "geo_logs"
   ]
  },
  {
   "cell_type": "code",
   "execution_count": null,
   "metadata": {},
   "outputs": [],
   "source": []
  },
  {
   "cell_type": "markdown",
   "metadata": {},
   "source": [
    "Задание 2. Выведите на экран все уникальные гео-ID из значений словаря ids. Т. е. список вида [213, 15, 54, 119, 98, 35]"
   ]
  },
  {
   "cell_type": "code",
   "execution_count": 104,
   "metadata": {},
   "outputs": [],
   "source": [
    "ids = {'user1': [213, 213, 213, 15, 213], \n",
    "       'user2': [54, 54, 119, 119, 119], \n",
    "       'user3': [213, 98, 98, 35]}\n"
   ]
  },
  {
   "cell_type": "code",
   "execution_count": 146,
   "metadata": {},
   "outputs": [
    {
     "name": "stdout",
     "output_type": "stream",
     "text": [
      "[98, 35, 15, 213, 54, 119]\n"
     ]
    }
   ],
   "source": [
    "geo_id = set()\n",
    "for key, value in ids.items():\n",
    "    geo_id.update(value)\n",
    "print(list(geo_id))"
   ]
  },
  {
   "cell_type": "markdown",
   "metadata": {},
   "source": [
    "Задание 3. Дан список поисковых запросов. Получить распределение количества слов в них. Т. е. поисковых запросов из одного - слова 5%, из двух - 7%, из трех - 3% и т.д."
   ]
  },
  {
   "cell_type": "code",
   "execution_count": 168,
   "metadata": {},
   "outputs": [
    {
     "name": "stdout",
     "output_type": "stream",
     "text": [
      "inqueries with 3 words – 57.14%\n",
      "inqueries with 2 words – 42.86%\n"
     ]
    }
   ],
   "source": [
    "queries = [\n",
    "    'смотреть сериалы онлайн',\n",
    "    'новости спорта',\n",
    "    'афиша кино',\n",
    "    'курс доллара',\n",
    "    'сериалы этим летом',\n",
    "    'курс по питону',\n",
    "    'сериалы про спорт',\n",
    "]\n",
    "\n",
    "element = 0\n",
    "number = []\n",
    "dct = {}\n",
    "\n",
    "for element in queries:\n",
    "    element = element.split(\" \")\n",
    "    number = len(element)\n",
    "    dct.setdefault(number, 0)\n",
    "    dct[number] += 1 / len(queries) * 100\n",
    "    \n",
    "#     if number in dct:\n",
    "#         dct[number] += 1/len(queries)*100\n",
    "#     else:\n",
    "#         dct[number] = 1/len(queries)*100\n",
    "for k, v in dct.items():\n",
    "    #print('inqueries with ', k, ' words – ', round(dct[k]), '%', sep='')\n",
    "    print(f'inqueries with {k} words – {dct[k]:.2f}%')\n"
   ]
  },
  {
   "cell_type": "markdown",
   "metadata": {},
   "source": [
    "Задание 4. Дана статистика рекламных каналов по объемам продаж. Напишите скрипт, который возвращает название канала с максимальным объемом. Т. е. в данном примере скрипт должен возвращать 'yandex'."
   ]
  },
  {
   "cell_type": "code",
   "execution_count": 170,
   "metadata": {},
   "outputs": [
    {
     "name": "stdout",
     "output_type": "stream",
     "text": [
      "{'2018-01-01': {'yandex': {'cpc': {100: {'abc': 100500}}}}}\n"
     ]
    }
   ],
   "source": [
    "my_list = ['2018-01-01', 'yandex', 'cpc', 100, 'abc', 100500]\n",
    "dictionary = my_list[-1]\n",
    "for i in my_list[-2::-1]:\n",
    "    dictionary = {i: dictionary}\n",
    "print(dictionary)"
   ]
  },
  {
   "cell_type": "code",
   "execution_count": 169,
   "metadata": {},
   "outputs": [
    {
     "name": "stdout",
     "output_type": "stream",
     "text": [
      "{'2018-01-01': {'yandex': {'cpc': {100: {'abc': 100500}}}}}\n"
     ]
    }
   ],
   "source": [
    "def some_foo(iter_):\n",
    "    if len(iter_) == 2:\n",
    "        return {iter_[0]:iter_[1]}\n",
    "    return {iter_[0]: some_foo(iter_[1:])}\n",
    "print(some_foo(my_list))"
   ]
  },
  {
   "cell_type": "code",
   "execution_count": 75,
   "metadata": {},
   "outputs": [
    {
     "name": "stdout",
     "output_type": "stream",
     "text": [
      "yandex\n"
     ]
    }
   ],
   "source": [
    "stats = {'facebook': 55, 'yandex': 120, 'vk': 115, \n",
    "'google': 99, 'email': 42, 'ok': 98}\n",
    "\n",
    "maximum = 0\n",
    "for k, v in stats.items():\n",
    "    if v > maximum:\n",
    "        maximum = v\n",
    "        company_name = k\n",
    "print(company_name)\n"
   ]
  },
  {
   "cell_type": "markdown",
   "metadata": {},
   "source": [
    "Задание 5. Напишите код для преобразования произвольного списка вида ['2018-01-01', 'yandex', 'cpc', 100] (он может быть любой длины) в словарь {'2018-01-01': {'yandex': {'cpc': 100}}}"
   ]
  },
  {
   "cell_type": "code",
   "execution_count": 102,
   "metadata": {},
   "outputs": [
    {
     "name": "stdout",
     "output_type": "stream",
     "text": [
      "{'2018-01-01': {'yandex': {'cpc': {100: {'abc': 100500}}}}}\n"
     ]
    }
   ],
   "source": [
    "my_list = ['2018-01-01', 'yandex', 'cpc', 100, 'abc', 100500]\n",
    "dictionary = my_list[-1]\n",
    "counter = 0\n",
    "for i in range(0, len(my_list[1:])):\n",
    "    counter = len(my_list) - i - 1 \n",
    "    dictionary = {my_list[counter - 1]: dictionary}\n",
    "\n",
    "print(dictionary)    \n",
    "#не поняла, как по-человечески пробегать по списку"
   ]
  }
 ],
 "metadata": {
  "kernelspec": {
   "display_name": "Python 3",
   "language": "python",
   "name": "python3"
  },
  "language_info": {
   "codemirror_mode": {
    "name": "ipython",
    "version": 3
   },
   "file_extension": ".py",
   "mimetype": "text/x-python",
   "name": "python",
   "nbconvert_exporter": "python",
   "pygments_lexer": "ipython3",
   "version": "3.7.6"
  }
 },
 "nbformat": 4,
 "nbformat_minor": 4
}
