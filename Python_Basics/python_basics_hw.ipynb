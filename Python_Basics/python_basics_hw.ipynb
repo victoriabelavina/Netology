{
 "cells": [
  {
   "cell_type": "code",
   "execution_count": 1,
   "metadata": {},
   "outputs": [
    {
     "data": {
      "text/plain": [
       "True"
      ]
     },
     "execution_count": 1,
     "metadata": {},
     "output_type": "execute_result"
    }
   ],
   "source": [
    "long_phrase = 'Насколько проще было бы писать программы, если бы не заказчики'\n",
    "short_phrase = '640Кб должно хватить для любых задач. Билл Гейтс (по легенде)'\n",
    "len(long_phrase) > len(short_phrase)"
   ]
  },
  {
   "cell_type": "code",
   "execution_count": 2,
   "metadata": {},
   "outputs": [
    {
     "name": "stdout",
     "output_type": "stream",
     "text": [
      "Введите объем файла в байтах 4152360\n",
      "Объемфайла равен  3.96 Mb\n"
     ]
    }
   ],
   "source": [
    "file = int(input(\"Введите объем файла в байтах \"))\n",
    "file = file / (2**20)\n",
    "file = float('{:.3f}'.format(file))\n",
    "print(\"Объемфайла равен \", file,\"Mb\" )"
   ]
  },
  {
   "cell_type": "code",
   "execution_count": 3,
   "metadata": {},
   "outputs": [
    {
     "name": "stdout",
     "output_type": "stream",
     "text": [
      "Enter your month of birth December\n",
      "Enter your date of birth 2\n",
      "You sign is  Sagittarius\n"
     ]
    }
   ],
   "source": [
    "month = input(\"Enter your month of birth \")\n",
    "date = int(input(\"Enter your date of birth \"))\n",
    "sign = \"0\"\n",
    "if (month == \"March\" and 21 <= date <= 31) or (month == \"April\" and 1 <= date <= 19): \n",
    "    sign = \"Aries\"\n",
    "elif (month == \"April\" and 20 <= date <= 31) or (month == \"May\" and 1 <= date <= 20): \n",
    "    sign = \"Taurus\"\n",
    "elif (month == \"May\" and 21 <= date <= 31) or (month == \"June\" and 1 <= date <= 20): \n",
    "    sign = \"Gemini\"\n",
    "elif (month == \"June\" and 21 <= date <= 31) or (month == \"July\" and 1 <= date <= 22): \n",
    "    sign = \"Cancer\"\n",
    "elif (month == \"July\" and 23 <= date <= 31) or (month == \"August\" and 1 <= date <= 22): \n",
    "    sign = \"Leo\"\n",
    "elif (month == \"August\" and 23 <= date <= 31) or (month == \"September\" and 1 <= date <= 22): \n",
    "    sign = \"Virgo\"\n",
    "elif (month == \"September\" and 23 <= date <= 31) or (month == \"October\" and 1 <= date <= 22): \n",
    "    sign = \"Libra\"\n",
    "elif (month == \"October\" and 23 <= date <= 31) or (month == \"November\" and 1 <= date <= 21): \n",
    "    sign = \"Scorpio\"\n",
    "elif (month == \"November\" and 22 <= date <= 31) or (month == \"December\" and 1 <= date <= 21): \n",
    "    sign = \"Sagittarius\"\n",
    "elif (month == \"December\" and 22 <= date <= 31) or (month == \"January\" and 1 <= date <= 19): \n",
    "    sign = \"Capricorn\"\n",
    "elif (month == \"January\" and 20 <= date <= 31) or (month == \"February\" and 1 <= date <= 18): \n",
    "    sign = \"Aquarius\"\n",
    "elif (month == \"February\" and 19 <= date <= 31) or (month == \"March\" and 1 <= date <= 20): \n",
    "    sign = \"Pisces\"\n",
    "else: \n",
    "    print(\"You sign is undefined\")\n",
    "print(\"You sign is \", sign)"
   ]
  },
  {
   "cell_type": "code",
   "execution_count": 4,
   "metadata": {},
   "outputs": [
    {
     "name": "stdout",
     "output_type": "stream",
     "text": [
      "Enter your salary 100000\n",
      "Enter your mortgage costs in % 30\n",
      "Enter your living costs in % 50\n",
      "Enter number of bonuses you're paid per year 2\n",
      "Your mortgage costs  360000 Your savings  340000\n"
     ]
    }
   ],
   "source": [
    "salary = int(input(\"Enter your salary \"))\n",
    "mortgage = int(input(\"Enter your mortgage costs in % \"))\n",
    "living = int(input(\"Enter your living costs in % \"))\n",
    "bonus_num = int(input(\"Enter number of bonuses you're paid per year \"))\n",
    "money_saved_bonus = int((salary / 2) * bonus_num)\n",
    "saved_salary = salary * ((100 - (mortgage + living)) / 100)\n",
    "mortgage_total = salary * mortgage / 100 * 12\n",
    "saved_money = money_saved_bonus + saved_salary * 12\n",
    "print(\"Your mortgage costs \", int(mortgage_total), \"Your savings \", int(saved_money))"
   ]
  },
  {
   "cell_type": "code",
   "execution_count": null,
   "metadata": {},
   "outputs": [],
   "source": []
  }
 ],
 "metadata": {
  "kernelspec": {
   "display_name": "Python 3",
   "language": "python",
   "name": "python3"
  },
  "language_info": {
   "codemirror_mode": {
    "name": "ipython",
    "version": 3
   },
   "file_extension": ".py",
   "mimetype": "text/x-python",
   "name": "python",
   "nbconvert_exporter": "python",
   "pygments_lexer": "ipython3",
   "version": "3.7.6"
  }
 },
 "nbformat": 4,
 "nbformat_minor": 4
}
