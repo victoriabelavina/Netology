{
 "cells": [
  {
   "cell_type": "markdown",
   "metadata": {},
   "source": [
    "Вы работаете секретарем и вам постоянно приходят различные документы. Вы должны быть очень внимательны, чтобы не потерять ни один документ. Каталог документов хранится в следующем виде:"
   ]
  },
  {
   "cell_type": "code",
   "execution_count": 1,
   "metadata": {},
   "outputs": [],
   "source": [
    "documents = [\n",
    "    {'type': 'passport', 'number': '2207 876234', 'name': 'Василий Гупкин'},\n",
    "    {'type': 'invoice', 'number': '11-2', 'name': 'Геннадий Покемонов'},\n",
    "    {'type': 'insurance', 'number': '10006', 'name': 'Аристарх Павлов'}\n",
    "]"
   ]
  },
  {
   "cell_type": "code",
   "execution_count": 2,
   "metadata": {},
   "outputs": [
    {
     "name": "stdout",
     "output_type": "stream",
     "text": [
      "Enter the document number: 11-2\n"
     ]
    },
    {
     "data": {
      "text/plain": [
       "'Геннадий Покемонов'"
      ]
     },
     "execution_count": 2,
     "metadata": {},
     "output_type": "execute_result"
    }
   ],
   "source": [
    "def input_number():\n",
    "    return input('Enter the document number: ')\n",
    "\n",
    "def get_people(docs, doc_number):\n",
    "    \"\"\"\n",
    "    команда, которая спросит номер документа и выведет имя человека,\n",
    "    которому он принадлежит\n",
    "    \n",
    "    \"\"\"\n",
    "    for doc in docs:\n",
    "        if doc['number'] == doc_number:\n",
    "            return doc['name']\n",
    "    return 'Такого документа нет'\n",
    "get_people(documents, input_number())"
   ]
  },
  {
   "cell_type": "markdown",
   "metadata": {},
   "source": [
    "Перечень полок, на которых находятся документы хранится в следующем виде:"
   ]
  },
  {
   "cell_type": "code",
   "execution_count": 3,
   "metadata": {},
   "outputs": [],
   "source": [
    "directories = {\n",
    "'1': ['2207 876234', '11-2'],\n",
    "    '2': ['10006'],\n",
    "    '3': []\n",
    "}"
   ]
  },
  {
   "cell_type": "code",
   "execution_count": 4,
   "metadata": {},
   "outputs": [],
   "source": [
    "def get_shelf(shelves, doc_number):\n",
    "    \"\"\"\n",
    "    shelf – команда, которая спросит номер документа и\n",
    "    выведет номер полки, на которой он находится\n",
    "\n",
    "    \"\"\"\n",
    "    for shelf_number, list_of_docs in shelves.items():\n",
    "        if doc_number in list_of_docs:\n",
    "            return shelf_number\n",
    "    return 'No such document number'"
   ]
  },
  {
   "cell_type": "code",
   "execution_count": 5,
   "metadata": {},
   "outputs": [
    {
     "name": "stdout",
     "output_type": "stream",
     "text": [
      "passport 2207 876234 Василий Гупкин\n",
      "invoice 11-2 Геннадий Покемонов\n",
      "insurance 10006 Аристарх Павлов\n"
     ]
    }
   ],
   "source": [
    "def get_list(docs):\n",
    "    \"\"\"\n",
    "    команда, которая выведет список всех документов \n",
    "    \"\"\"\n",
    "    for dict_ in docs:\n",
    "        print(f'{dict_[\"type\"]} {dict_[\"number\"]} {dict_[\"name\"]}') \n",
    "        \n",
    "get_list(documents)"
   ]
  },
  {
   "cell_type": "code",
   "execution_count": 6,
   "metadata": {},
   "outputs": [
    {
     "name": "stdout",
     "output_type": "stream",
     "text": [
      "Enter the shelf number: 4\n",
      "{'1': ['2207 876234', '11-2'], '2': ['10006'], '3': [], '4': []}\n"
     ]
    }
   ],
   "source": [
    "def input_shelf():\n",
    "    return input('Enter the shelf number: ')\n",
    "    \n",
    "def add_shelf(shelves, shelf_number):\n",
    "    \"\"\"\n",
    "    команда, которая спросит номер новой полки и добавит ее в перечень.\n",
    "    если полка уже существует, добавлять и перезатирать не будет\n",
    "    \n",
    "    \"\"\"\n",
    "    shelves.setdefault(shelf_number, [])\n",
    "    \n",
    "add_shelf(directories, input_shelf())\n",
    "print(directories)"
   ]
  },
  {
   "cell_type": "code",
   "execution_count": 7,
   "metadata": {},
   "outputs": [],
   "source": [
    "def pop_doc_number(shelves, doc_number):\n",
    "    for shelf in shelves.values():\n",
    "            if doc_number in shelf:\n",
    "                return shelf.pop(shelf.index(doc_number))\n",
    "                "
   ]
  },
  {
   "cell_type": "code",
   "execution_count": 21,
   "metadata": {},
   "outputs": [],
   "source": [
    "def get_doc_number(docs, doc_number):\n",
    "    \n",
    "    for doc in docs:\n",
    "        if doc['number'] == doc_number:\n",
    "            return doc['number']\n",
    "\n",
    "\n",
    "def get_shelf_number(shelves, doc_number):\n",
    "    \n",
    "    for shelf_number in shelves.values():\n",
    "        if doc_number in shelf_number:\n",
    "            return doc_number\n",
    "get_shelf_number(directories, '10006')\n",
    "\n",
    "    \n",
    "def delete_dictionary(docs, doc_number):\n",
    "    for index, dic in enumerate(docs):\n",
    "        if doc_number == dic['number']:\n",
    "            return docs.pop(index)\n",
    "       \n",
    "\n",
    "def delete_doc(docs, shelves, doc_number):\n",
    "    \n",
    "    number_document = get_doc_number(docs, doc_number)\n",
    "    number_directories = get_shelf_number(shelves, doc_number)\n",
    "    if not number_document and not number_directories:\n",
    "        print('No such document')\n",
    "        return\n",
    "    \n",
    "    pop_doc_number(shelves, doc_number)\n",
    "    delete_dictionary(docs, doc_number)    \n",
    "\n",
    "# delete_doc(documents, directories, '6666')\n",
    "# directories, documents\n"
   ]
  },
  {
   "cell_type": "code",
   "execution_count": 9,
   "metadata": {},
   "outputs": [],
   "source": [
    "def check_shelf(shelf_number, shelves):\n",
    "    if shelf_number in shelves:\n",
    "        return True"
   ]
  },
  {
   "cell_type": "code",
   "execution_count": 10,
   "metadata": {},
   "outputs": [
    {
     "name": "stdout",
     "output_type": "stream",
     "text": [
      "Enter shelf №: 4\n"
     ]
    },
    {
     "data": {
      "text/plain": [
       "{'1': ['2207 876234'], '2': [], '3': [], '4': ['11-2']}"
      ]
     },
     "execution_count": 10,
     "metadata": {},
     "output_type": "execute_result"
    }
   ],
   "source": [
    "def move_document(shelves, doc_number):\n",
    "    if get_shelf_number(shelves, doc_number):\n",
    "        shelf_number = input('Enter shelf №: ')\n",
    "        if check_shelf(shelf_number, shelves):\n",
    "            if doc_number not in shelves[shelf_number]:\n",
    "                    popped_doc = pop_doc_number(shelves, doc_number)    \n",
    "                    shelves[shelf_number].append(popped_doc)\n",
    "# move_document(directories, '11-2')\n",
    "directories"
   ]
  },
  {
   "cell_type": "code",
   "execution_count": 11,
   "metadata": {},
   "outputs": [
    {
     "name": "stdout",
     "output_type": "stream",
     "text": [
      "Enter shelf №: 6\n"
     ]
    },
    {
     "data": {
      "text/plain": [
       "({'1': ['2207 876234'], '2': [], '3': [], '4': ['11-2']},\n",
       " [{'type': 'passport', 'number': '2207 876234', 'name': 'Василий Гупкин'},\n",
       "  {'type': 'invoice', 'number': '11-2', 'name': 'Геннадий Покемонов'},\n",
       "  {'number': '456', 'type': 'pass', 'name': 'zhenya'}])"
      ]
     },
     "execution_count": 11,
     "metadata": {},
     "output_type": "execute_result"
    }
   ],
   "source": [
    "def create_new_user(doc_number, doc_type, name):\n",
    "    return {'number': doc_number, 'type': doc_type, 'name': name}\n",
    "\n",
    "def add_new_user(docs, shelves, user):\n",
    "    if get_doc_number(docs, user['number']):\n",
    "        print('This number already exists')\n",
    "        return\n",
    "    docs.append(user)\n",
    "    shelf_number = input('Enter shelf №: ')\n",
    "    if check_shelf(shelf_number, shelves):\n",
    "        shelves[shelf_number].append(user['number'])\n",
    "#add_new_user(documents, directories, create_new_user('456', 'pass', 'zhenya'))\n",
    "directories, documents"
   ]
  },
  {
   "cell_type": "code",
   "execution_count": 30,
   "metadata": {},
   "outputs": [
    {
     "name": "stdout",
     "output_type": "stream",
     "text": [
      "Enter the command:  D\n",
      "Enter the document number: qq\n",
      "No such document\n",
      "[{'type': 'passport', 'number': '2207 876234', 'name': 'Василий Гупкин'}, {'type': 'invoice', 'number': '11-2', 'name': 'Геннадий Покемонов'}, {'number': '456', 'type': 'pass', 'name': 'zhenya'}, {'number': '123', 'type': 'pass', 'name': 'viks'}, {'number': '111', 'type': 'passport', 'name': 'gigi'}, {'number': '222', 'type': '2', 'name': '2'}, {'number': 'ss', 'type': 'ss', 'name': 's'}] {'1': ['2207 876234'], '2': ['222'], '3': ['11-2', '123', '111'], '4': []}\n",
      "Enter the command:  D\n",
      "Enter the document number: ss\n",
      "[{'type': 'passport', 'number': '2207 876234', 'name': 'Василий Гупкин'}, {'type': 'invoice', 'number': '11-2', 'name': 'Геннадий Покемонов'}, {'number': '456', 'type': 'pass', 'name': 'zhenya'}, {'number': '123', 'type': 'pass', 'name': 'viks'}, {'number': '111', 'type': 'passport', 'name': 'gigi'}, {'number': '222', 'type': '2', 'name': '2'}] {'1': ['2207 876234'], '2': ['222'], '3': ['11-2', '123', '111'], '4': []}\n",
      "Enter the command:  q\n"
     ]
    }
   ],
   "source": [
    "def main():\n",
    "    while True:\n",
    "        user_input = input('Enter the command:  ').lower()\n",
    "        if user_input == 'p':\n",
    "            print(get_people(documents, input_number()))\n",
    "        elif user_input == 's':\n",
    "            print(get_shelf(directories, input_number()))\n",
    "        elif user_input == 'l':\n",
    "            get_list(documents)\n",
    "        elif user_input == 'as':\n",
    "            add_shelf(directories, input_shelf())\n",
    "            print(directories)\n",
    "        elif user_input == 'd':\n",
    "            delete_doc(documents, directories, input_number())\n",
    "            print(documents, directories)\n",
    "        elif user_input == 'm':\n",
    "            move_document(directories, input_number())\n",
    "            print(directories)\n",
    "        elif user_input == 'a':\n",
    "            add_new_user(documents, directories, create_new_user(input('number '), input('type '), input('name ')))\n",
    "            print(documents, directories)\n",
    "        elif user_input == 'q':\n",
    "            break\n",
    "main()"
   ]
  },
  {
   "cell_type": "markdown",
   "metadata": {},
   "source": [
    "###### "
   ]
  },
  {
   "cell_type": "markdown",
   "metadata": {},
   "source": [
    "Необходимо реализовать пользовательские команды (внимание! это не название функций, которые должны быть выразительными, а команды, которые вводит пользователь, чтобы получить необходимый результат):\n",
    "\n",
    "p – people – команда, которая спросит номер документа и выведет имя человека, которому он принадлежит;\n",
    "s – shelf – команда, которая спросит номер документа и выведет номер полки, на которой он находится\n",
    "Правильно обработайте ситуации, когда пользователь будет вводить несуществующий документ.\n",
    "l – list – команда, которая выведет список всех документов в формате\n",
    "passport \"2207 876234\" \"Василий Гупкин\"\n",
    "as – add shelf – команда, которая спросит номер новой полки и добавит ее в перечень. Предусмотрите случай, когда пользователь добавляет полку, которая уже существует.\n",
    "d – delete – команда, которая спросит номер документа и удалит его из каталога и из перечня полок. Предусмотрите сценарий, когда пользователь вводит несуществующий документ;\n",
    "m – move – команда, которая спросит номер документа и целевую полку и переместит его с текущей полки на целевую. Корректно обработайте кейсы, когда пользователь пытается переместить несуществующий документ или переместить документ на несуществующую полку;\n",
    "a – add – команда, которая добавит новый документ в каталог и в перечень полок, спросив его номер, тип, имя владельца и номер полки, на котором он будет храниться. Корректно обработайте ситуацию, когда пользователь будет пытаться добавить документ на несуществующую полку."
   ]
  }
 ],
 "metadata": {
  "kernelspec": {
   "display_name": "Python 3",
   "language": "python",
   "name": "python3"
  },
  "language_info": {
   "codemirror_mode": {
    "name": "ipython",
    "version": 3
   },
   "file_extension": ".py",
   "mimetype": "text/x-python",
   "name": "python",
   "nbconvert_exporter": "python",
   "pygments_lexer": "ipython3",
   "version": "3.7.6"
  },
  "widgets": {
   "application/vnd.jupyter.widget-state+json": {
    "state": {},
    "version_major": 2,
    "version_minor": 0
   }
  }
 },
 "nbformat": 4,
 "nbformat_minor": 4
}
